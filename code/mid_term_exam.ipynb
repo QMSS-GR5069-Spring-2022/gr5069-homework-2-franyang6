{
  "cells": [
    {
      "cell_type": "markdown",
      "metadata": {
        "id": "-jSLPqKWwaTc"
      },
      "source": [
        "## Mid-term Exam\n",
        "## Frances Zi Yang"
      ]
    },
    {
      "cell_type": "markdown",
      "metadata": {
        "id": "lGMNUVMrwaTh"
      },
      "source": [
        "### 1.  Import the spam dataset and print the first six rows. "
      ]
    },
    {
      "cell_type": "code",
      "execution_count": null,
      "metadata": {
        "id": "rGkR0Q6xwaTi"
      },
      "outputs": [],
      "source": [
        "import pandas as pd"
      ]
    },
    {
      "cell_type": "code",
      "execution_count": null,
      "metadata": {
        "id": "1nShlEO0waTk"
      },
      "outputs": [],
      "source": [
        "# Supress Warnings\n",
        "import warnings\n",
        "warnings.filterwarnings(\"ignore\")"
      ]
    },
    {
      "cell_type": "code",
      "execution_count": null,
      "metadata": {
        "scrolled": true,
        "id": "O28onIetwaTk"
      },
      "outputs": [],
      "source": [
        "# Import dataset\n",
        "url = \"https://raw.githubusercontent.com/QMSS-GR5069-Spring-2022/gr5069-homework-2-franyang6/main/spam_dataset.csv\"\n",
        "\n",
        "df1 = pd.read_csv(url, on_bad_lines='skip')\n",
        "\n",
        "# I changed the way of reading the data file.\n",
        "# You used the local path, but I changed it to your github raw file path.\n"
      ]
    },
    {
      "cell_type": "code",
      "execution_count": null,
      "metadata": {
        "colab": {
          "base_uri": "https://localhost:8080/",
          "height": 331
        },
        "id": "nnzEfbNdwaTl",
        "outputId": "0e79357d-786d-4e0c-fc2f-0652ccfd47df"
      },
      "outputs": [
        {
          "output_type": "execute_result",
          "data": {
            "text/plain": [
              "   word_freq_make:  word_freq_address:  word_freq_all:  word_freq_3d:  \\\n",
              "0             0.00                0.64            0.64            0.0   \n",
              "1             0.21                0.28            0.50            0.0   \n",
              "2             0.06                0.00            0.71            0.0   \n",
              "3             0.00                0.00            0.00            0.0   \n",
              "4             0.00                0.00            0.00            0.0   \n",
              "5             0.00                0.00            0.00            0.0   \n",
              "\n",
              "   word_freq_our:  word_freq_over:  word_freq_remove:  word_freq_internet:  \\\n",
              "0            0.32             0.00               0.00                 0.00   \n",
              "1            0.14             0.28               0.21                 0.07   \n",
              "2            1.23             0.19               0.19                 0.12   \n",
              "3            0.63             0.00               0.31                 0.63   \n",
              "4            0.63             0.00               0.31                 0.63   \n",
              "5            1.85             0.00               0.00                 1.85   \n",
              "\n",
              "   word_freq_order:  word_freq_mail:  ...  char_freq_;:  char_freq_(:  \\\n",
              "0              0.00             0.00  ...          0.00         0.000   \n",
              "1              0.00             0.94  ...          0.00         0.132   \n",
              "2              0.64             0.25  ...          0.01         0.143   \n",
              "3              0.31             0.63  ...          0.00         0.137   \n",
              "4              0.31             0.63  ...          0.00         0.135   \n",
              "5              0.00             0.00  ...          0.00         0.223   \n",
              "\n",
              "   char_freq_[:  char_freq_!:  char_freq_$:  char_freq_#:  \\\n",
              "0           0.0         0.778         0.000         0.000   \n",
              "1           0.0         0.372         0.180         0.048   \n",
              "2           0.0         0.276         0.184         0.010   \n",
              "3           0.0         0.137         0.000         0.000   \n",
              "4           0.0         0.135         0.000         0.000   \n",
              "5           0.0         0.000         0.000         0.000   \n",
              "\n",
              "   capital_run_length_average:  capital_run_length_longest:  \\\n",
              "0                        3.756                           61   \n",
              "1                        5.114                          101   \n",
              "2                        9.821                          485   \n",
              "3                        3.537                           40   \n",
              "4                        3.537                           40   \n",
              "5                        3.000                           15   \n",
              "\n",
              "   capital_run_length_total:  spam  \n",
              "0                        278     1  \n",
              "1                       1028     1  \n",
              "2                       2259     1  \n",
              "3                        191     1  \n",
              "4                        191     1  \n",
              "5                         54     1  \n",
              "\n",
              "[6 rows x 58 columns]"
            ],
            "text/html": [
              "\n",
              "  <div id=\"df-bc077bef-3a03-4243-b19a-6c57a2864e22\">\n",
              "    <div class=\"colab-df-container\">\n",
              "      <div>\n",
              "<style scoped>\n",
              "    .dataframe tbody tr th:only-of-type {\n",
              "        vertical-align: middle;\n",
              "    }\n",
              "\n",
              "    .dataframe tbody tr th {\n",
              "        vertical-align: top;\n",
              "    }\n",
              "\n",
              "    .dataframe thead th {\n",
              "        text-align: right;\n",
              "    }\n",
              "</style>\n",
              "<table border=\"1\" class=\"dataframe\">\n",
              "  <thead>\n",
              "    <tr style=\"text-align: right;\">\n",
              "      <th></th>\n",
              "      <th>word_freq_make:</th>\n",
              "      <th>word_freq_address:</th>\n",
              "      <th>word_freq_all:</th>\n",
              "      <th>word_freq_3d:</th>\n",
              "      <th>word_freq_our:</th>\n",
              "      <th>word_freq_over:</th>\n",
              "      <th>word_freq_remove:</th>\n",
              "      <th>word_freq_internet:</th>\n",
              "      <th>word_freq_order:</th>\n",
              "      <th>word_freq_mail:</th>\n",
              "      <th>...</th>\n",
              "      <th>char_freq_;:</th>\n",
              "      <th>char_freq_(:</th>\n",
              "      <th>char_freq_[:</th>\n",
              "      <th>char_freq_!:</th>\n",
              "      <th>char_freq_$:</th>\n",
              "      <th>char_freq_#:</th>\n",
              "      <th>capital_run_length_average:</th>\n",
              "      <th>capital_run_length_longest:</th>\n",
              "      <th>capital_run_length_total:</th>\n",
              "      <th>spam</th>\n",
              "    </tr>\n",
              "  </thead>\n",
              "  <tbody>\n",
              "    <tr>\n",
              "      <th>0</th>\n",
              "      <td>0.00</td>\n",
              "      <td>0.64</td>\n",
              "      <td>0.64</td>\n",
              "      <td>0.0</td>\n",
              "      <td>0.32</td>\n",
              "      <td>0.00</td>\n",
              "      <td>0.00</td>\n",
              "      <td>0.00</td>\n",
              "      <td>0.00</td>\n",
              "      <td>0.00</td>\n",
              "      <td>...</td>\n",
              "      <td>0.00</td>\n",
              "      <td>0.000</td>\n",
              "      <td>0.0</td>\n",
              "      <td>0.778</td>\n",
              "      <td>0.000</td>\n",
              "      <td>0.000</td>\n",
              "      <td>3.756</td>\n",
              "      <td>61</td>\n",
              "      <td>278</td>\n",
              "      <td>1</td>\n",
              "    </tr>\n",
              "    <tr>\n",
              "      <th>1</th>\n",
              "      <td>0.21</td>\n",
              "      <td>0.28</td>\n",
              "      <td>0.50</td>\n",
              "      <td>0.0</td>\n",
              "      <td>0.14</td>\n",
              "      <td>0.28</td>\n",
              "      <td>0.21</td>\n",
              "      <td>0.07</td>\n",
              "      <td>0.00</td>\n",
              "      <td>0.94</td>\n",
              "      <td>...</td>\n",
              "      <td>0.00</td>\n",
              "      <td>0.132</td>\n",
              "      <td>0.0</td>\n",
              "      <td>0.372</td>\n",
              "      <td>0.180</td>\n",
              "      <td>0.048</td>\n",
              "      <td>5.114</td>\n",
              "      <td>101</td>\n",
              "      <td>1028</td>\n",
              "      <td>1</td>\n",
              "    </tr>\n",
              "    <tr>\n",
              "      <th>2</th>\n",
              "      <td>0.06</td>\n",
              "      <td>0.00</td>\n",
              "      <td>0.71</td>\n",
              "      <td>0.0</td>\n",
              "      <td>1.23</td>\n",
              "      <td>0.19</td>\n",
              "      <td>0.19</td>\n",
              "      <td>0.12</td>\n",
              "      <td>0.64</td>\n",
              "      <td>0.25</td>\n",
              "      <td>...</td>\n",
              "      <td>0.01</td>\n",
              "      <td>0.143</td>\n",
              "      <td>0.0</td>\n",
              "      <td>0.276</td>\n",
              "      <td>0.184</td>\n",
              "      <td>0.010</td>\n",
              "      <td>9.821</td>\n",
              "      <td>485</td>\n",
              "      <td>2259</td>\n",
              "      <td>1</td>\n",
              "    </tr>\n",
              "    <tr>\n",
              "      <th>3</th>\n",
              "      <td>0.00</td>\n",
              "      <td>0.00</td>\n",
              "      <td>0.00</td>\n",
              "      <td>0.0</td>\n",
              "      <td>0.63</td>\n",
              "      <td>0.00</td>\n",
              "      <td>0.31</td>\n",
              "      <td>0.63</td>\n",
              "      <td>0.31</td>\n",
              "      <td>0.63</td>\n",
              "      <td>...</td>\n",
              "      <td>0.00</td>\n",
              "      <td>0.137</td>\n",
              "      <td>0.0</td>\n",
              "      <td>0.137</td>\n",
              "      <td>0.000</td>\n",
              "      <td>0.000</td>\n",
              "      <td>3.537</td>\n",
              "      <td>40</td>\n",
              "      <td>191</td>\n",
              "      <td>1</td>\n",
              "    </tr>\n",
              "    <tr>\n",
              "      <th>4</th>\n",
              "      <td>0.00</td>\n",
              "      <td>0.00</td>\n",
              "      <td>0.00</td>\n",
              "      <td>0.0</td>\n",
              "      <td>0.63</td>\n",
              "      <td>0.00</td>\n",
              "      <td>0.31</td>\n",
              "      <td>0.63</td>\n",
              "      <td>0.31</td>\n",
              "      <td>0.63</td>\n",
              "      <td>...</td>\n",
              "      <td>0.00</td>\n",
              "      <td>0.135</td>\n",
              "      <td>0.0</td>\n",
              "      <td>0.135</td>\n",
              "      <td>0.000</td>\n",
              "      <td>0.000</td>\n",
              "      <td>3.537</td>\n",
              "      <td>40</td>\n",
              "      <td>191</td>\n",
              "      <td>1</td>\n",
              "    </tr>\n",
              "    <tr>\n",
              "      <th>5</th>\n",
              "      <td>0.00</td>\n",
              "      <td>0.00</td>\n",
              "      <td>0.00</td>\n",
              "      <td>0.0</td>\n",
              "      <td>1.85</td>\n",
              "      <td>0.00</td>\n",
              "      <td>0.00</td>\n",
              "      <td>1.85</td>\n",
              "      <td>0.00</td>\n",
              "      <td>0.00</td>\n",
              "      <td>...</td>\n",
              "      <td>0.00</td>\n",
              "      <td>0.223</td>\n",
              "      <td>0.0</td>\n",
              "      <td>0.000</td>\n",
              "      <td>0.000</td>\n",
              "      <td>0.000</td>\n",
              "      <td>3.000</td>\n",
              "      <td>15</td>\n",
              "      <td>54</td>\n",
              "      <td>1</td>\n",
              "    </tr>\n",
              "  </tbody>\n",
              "</table>\n",
              "<p>6 rows × 58 columns</p>\n",
              "</div>\n",
              "      <button class=\"colab-df-convert\" onclick=\"convertToInteractive('df-bc077bef-3a03-4243-b19a-6c57a2864e22')\"\n",
              "              title=\"Convert this dataframe to an interactive table.\"\n",
              "              style=\"display:none;\">\n",
              "        \n",
              "  <svg xmlns=\"http://www.w3.org/2000/svg\" height=\"24px\"viewBox=\"0 0 24 24\"\n",
              "       width=\"24px\">\n",
              "    <path d=\"M0 0h24v24H0V0z\" fill=\"none\"/>\n",
              "    <path d=\"M18.56 5.44l.94 2.06.94-2.06 2.06-.94-2.06-.94-.94-2.06-.94 2.06-2.06.94zm-11 1L8.5 8.5l.94-2.06 2.06-.94-2.06-.94L8.5 2.5l-.94 2.06-2.06.94zm10 10l.94 2.06.94-2.06 2.06-.94-2.06-.94-.94-2.06-.94 2.06-2.06.94z\"/><path d=\"M17.41 7.96l-1.37-1.37c-.4-.4-.92-.59-1.43-.59-.52 0-1.04.2-1.43.59L10.3 9.45l-7.72 7.72c-.78.78-.78 2.05 0 2.83L4 21.41c.39.39.9.59 1.41.59.51 0 1.02-.2 1.41-.59l7.78-7.78 2.81-2.81c.8-.78.8-2.07 0-2.86zM5.41 20L4 18.59l7.72-7.72 1.47 1.35L5.41 20z\"/>\n",
              "  </svg>\n",
              "      </button>\n",
              "      \n",
              "  <style>\n",
              "    .colab-df-container {\n",
              "      display:flex;\n",
              "      flex-wrap:wrap;\n",
              "      gap: 12px;\n",
              "    }\n",
              "\n",
              "    .colab-df-convert {\n",
              "      background-color: #E8F0FE;\n",
              "      border: none;\n",
              "      border-radius: 50%;\n",
              "      cursor: pointer;\n",
              "      display: none;\n",
              "      fill: #1967D2;\n",
              "      height: 32px;\n",
              "      padding: 0 0 0 0;\n",
              "      width: 32px;\n",
              "    }\n",
              "\n",
              "    .colab-df-convert:hover {\n",
              "      background-color: #E2EBFA;\n",
              "      box-shadow: 0px 1px 2px rgba(60, 64, 67, 0.3), 0px 1px 3px 1px rgba(60, 64, 67, 0.15);\n",
              "      fill: #174EA6;\n",
              "    }\n",
              "\n",
              "    [theme=dark] .colab-df-convert {\n",
              "      background-color: #3B4455;\n",
              "      fill: #D2E3FC;\n",
              "    }\n",
              "\n",
              "    [theme=dark] .colab-df-convert:hover {\n",
              "      background-color: #434B5C;\n",
              "      box-shadow: 0px 1px 3px 1px rgba(0, 0, 0, 0.15);\n",
              "      filter: drop-shadow(0px 1px 2px rgba(0, 0, 0, 0.3));\n",
              "      fill: #FFFFFF;\n",
              "    }\n",
              "  </style>\n",
              "\n",
              "      <script>\n",
              "        const buttonEl =\n",
              "          document.querySelector('#df-bc077bef-3a03-4243-b19a-6c57a2864e22 button.colab-df-convert');\n",
              "        buttonEl.style.display =\n",
              "          google.colab.kernel.accessAllowed ? 'block' : 'none';\n",
              "\n",
              "        async function convertToInteractive(key) {\n",
              "          const element = document.querySelector('#df-bc077bef-3a03-4243-b19a-6c57a2864e22');\n",
              "          const dataTable =\n",
              "            await google.colab.kernel.invokeFunction('convertToInteractive',\n",
              "                                                     [key], {});\n",
              "          if (!dataTable) return;\n",
              "\n",
              "          const docLinkHtml = 'Like what you see? Visit the ' +\n",
              "            '<a target=\"_blank\" href=https://colab.research.google.com/notebooks/data_table.ipynb>data table notebook</a>'\n",
              "            + ' to learn more about interactive tables.';\n",
              "          element.innerHTML = '';\n",
              "          dataTable['output_type'] = 'display_data';\n",
              "          await google.colab.output.renderOutput(dataTable, element);\n",
              "          const docLink = document.createElement('div');\n",
              "          docLink.innerHTML = docLinkHtml;\n",
              "          element.appendChild(docLink);\n",
              "        }\n",
              "      </script>\n",
              "    </div>\n",
              "  </div>\n",
              "  "
            ]
          },
          "metadata": {},
          "execution_count": 7
        }
      ],
      "source": [
        "# Print the first six rows\n",
        "df1.head(6)"
      ]
    },
    {
      "cell_type": "code",
      "source": [
        "# It is hard to see the data str with head.\n",
        "# So, I made a transpose of the head to see the long data columns easily.\n",
        "# instead of wide, long format can allow me to see the data struture at once. \n",
        "\n",
        "df1.head(1).transpose()"
      ],
      "metadata": {
        "colab": {
          "base_uri": "https://localhost:8080/",
          "height": 1000
        },
        "id": "7M6Q-8BAtqM7",
        "outputId": "6a6df0f1-b2b1-47e4-d0a7-3c463469a8fa"
      },
      "execution_count": null,
      "outputs": [
        {
          "output_type": "execute_result",
          "data": {
            "text/plain": [
              "                                   0\n",
              "word_freq_make:                0.000\n",
              "word_freq_address:             0.640\n",
              "word_freq_all:                 0.640\n",
              "word_freq_3d:                  0.000\n",
              "word_freq_our:                 0.320\n",
              "word_freq_over:                0.000\n",
              "word_freq_remove:              0.000\n",
              "word_freq_internet:            0.000\n",
              "word_freq_order:               0.000\n",
              "word_freq_mail:                0.000\n",
              "word_freq_receive:             0.000\n",
              "word_freq_will:                0.640\n",
              "word_freq_people:              0.000\n",
              "word_freq_report:              0.000\n",
              "word_freq_addresses:           0.000\n",
              "word_freq_free:                0.320\n",
              "word_freq_business:            0.000\n",
              "word_freq_email:               1.290\n",
              "word_freq_you:                 1.930\n",
              "word_freq_credit:              0.000\n",
              "word_freq_your:                0.960\n",
              "word_freq_font:                0.000\n",
              "word_freq_000:                 0.000\n",
              "word_freq_money:               0.000\n",
              "word_freq_hp:                  0.000\n",
              "word_freq_hpl:                 0.000\n",
              "word_freq_george:              0.000\n",
              "word_freq_650:                 0.000\n",
              "word_freq_lab:                 0.000\n",
              "word_freq_labs:                0.000\n",
              "word_freq_telnet:              0.000\n",
              "word_freq_857:                 0.000\n",
              "word_freq_data:                0.000\n",
              "word_freq_415:                 0.000\n",
              "word_freq_85:                  0.000\n",
              "word_freq_technology:          0.000\n",
              "word_freq_1999:                0.000\n",
              "word_freq_parts:               0.000\n",
              "word_freq_pm:                  0.000\n",
              "word_freq_direct:              0.000\n",
              "word_freq_cs:                  0.000\n",
              "word_freq_meeting:             0.000\n",
              "word_freq_original:            0.000\n",
              "word_freq_project:             0.000\n",
              "word_freq_re:                  0.000\n",
              "word_freq_edu:                 0.000\n",
              "word_freq_table:               0.000\n",
              "word_freq_conference:          0.000\n",
              "char_freq_;:                   0.000\n",
              "char_freq_(:                   0.000\n",
              "char_freq_[:                   0.000\n",
              "char_freq_!:                   0.778\n",
              "char_freq_$:                   0.000\n",
              "char_freq_#:                   0.000\n",
              "capital_run_length_average:    3.756\n",
              "capital_run_length_longest:   61.000\n",
              "capital_run_length_total:    278.000\n",
              "spam                           1.000"
            ],
            "text/html": [
              "\n",
              "  <div id=\"df-5d042110-44c9-47c3-894f-c78a6d51628e\">\n",
              "    <div class=\"colab-df-container\">\n",
              "      <div>\n",
              "<style scoped>\n",
              "    .dataframe tbody tr th:only-of-type {\n",
              "        vertical-align: middle;\n",
              "    }\n",
              "\n",
              "    .dataframe tbody tr th {\n",
              "        vertical-align: top;\n",
              "    }\n",
              "\n",
              "    .dataframe thead th {\n",
              "        text-align: right;\n",
              "    }\n",
              "</style>\n",
              "<table border=\"1\" class=\"dataframe\">\n",
              "  <thead>\n",
              "    <tr style=\"text-align: right;\">\n",
              "      <th></th>\n",
              "      <th>0</th>\n",
              "    </tr>\n",
              "  </thead>\n",
              "  <tbody>\n",
              "    <tr>\n",
              "      <th>word_freq_make:</th>\n",
              "      <td>0.000</td>\n",
              "    </tr>\n",
              "    <tr>\n",
              "      <th>word_freq_address:</th>\n",
              "      <td>0.640</td>\n",
              "    </tr>\n",
              "    <tr>\n",
              "      <th>word_freq_all:</th>\n",
              "      <td>0.640</td>\n",
              "    </tr>\n",
              "    <tr>\n",
              "      <th>word_freq_3d:</th>\n",
              "      <td>0.000</td>\n",
              "    </tr>\n",
              "    <tr>\n",
              "      <th>word_freq_our:</th>\n",
              "      <td>0.320</td>\n",
              "    </tr>\n",
              "    <tr>\n",
              "      <th>word_freq_over:</th>\n",
              "      <td>0.000</td>\n",
              "    </tr>\n",
              "    <tr>\n",
              "      <th>word_freq_remove:</th>\n",
              "      <td>0.000</td>\n",
              "    </tr>\n",
              "    <tr>\n",
              "      <th>word_freq_internet:</th>\n",
              "      <td>0.000</td>\n",
              "    </tr>\n",
              "    <tr>\n",
              "      <th>word_freq_order:</th>\n",
              "      <td>0.000</td>\n",
              "    </tr>\n",
              "    <tr>\n",
              "      <th>word_freq_mail:</th>\n",
              "      <td>0.000</td>\n",
              "    </tr>\n",
              "    <tr>\n",
              "      <th>word_freq_receive:</th>\n",
              "      <td>0.000</td>\n",
              "    </tr>\n",
              "    <tr>\n",
              "      <th>word_freq_will:</th>\n",
              "      <td>0.640</td>\n",
              "    </tr>\n",
              "    <tr>\n",
              "      <th>word_freq_people:</th>\n",
              "      <td>0.000</td>\n",
              "    </tr>\n",
              "    <tr>\n",
              "      <th>word_freq_report:</th>\n",
              "      <td>0.000</td>\n",
              "    </tr>\n",
              "    <tr>\n",
              "      <th>word_freq_addresses:</th>\n",
              "      <td>0.000</td>\n",
              "    </tr>\n",
              "    <tr>\n",
              "      <th>word_freq_free:</th>\n",
              "      <td>0.320</td>\n",
              "    </tr>\n",
              "    <tr>\n",
              "      <th>word_freq_business:</th>\n",
              "      <td>0.000</td>\n",
              "    </tr>\n",
              "    <tr>\n",
              "      <th>word_freq_email:</th>\n",
              "      <td>1.290</td>\n",
              "    </tr>\n",
              "    <tr>\n",
              "      <th>word_freq_you:</th>\n",
              "      <td>1.930</td>\n",
              "    </tr>\n",
              "    <tr>\n",
              "      <th>word_freq_credit:</th>\n",
              "      <td>0.000</td>\n",
              "    </tr>\n",
              "    <tr>\n",
              "      <th>word_freq_your:</th>\n",
              "      <td>0.960</td>\n",
              "    </tr>\n",
              "    <tr>\n",
              "      <th>word_freq_font:</th>\n",
              "      <td>0.000</td>\n",
              "    </tr>\n",
              "    <tr>\n",
              "      <th>word_freq_000:</th>\n",
              "      <td>0.000</td>\n",
              "    </tr>\n",
              "    <tr>\n",
              "      <th>word_freq_money:</th>\n",
              "      <td>0.000</td>\n",
              "    </tr>\n",
              "    <tr>\n",
              "      <th>word_freq_hp:</th>\n",
              "      <td>0.000</td>\n",
              "    </tr>\n",
              "    <tr>\n",
              "      <th>word_freq_hpl:</th>\n",
              "      <td>0.000</td>\n",
              "    </tr>\n",
              "    <tr>\n",
              "      <th>word_freq_george:</th>\n",
              "      <td>0.000</td>\n",
              "    </tr>\n",
              "    <tr>\n",
              "      <th>word_freq_650:</th>\n",
              "      <td>0.000</td>\n",
              "    </tr>\n",
              "    <tr>\n",
              "      <th>word_freq_lab:</th>\n",
              "      <td>0.000</td>\n",
              "    </tr>\n",
              "    <tr>\n",
              "      <th>word_freq_labs:</th>\n",
              "      <td>0.000</td>\n",
              "    </tr>\n",
              "    <tr>\n",
              "      <th>word_freq_telnet:</th>\n",
              "      <td>0.000</td>\n",
              "    </tr>\n",
              "    <tr>\n",
              "      <th>word_freq_857:</th>\n",
              "      <td>0.000</td>\n",
              "    </tr>\n",
              "    <tr>\n",
              "      <th>word_freq_data:</th>\n",
              "      <td>0.000</td>\n",
              "    </tr>\n",
              "    <tr>\n",
              "      <th>word_freq_415:</th>\n",
              "      <td>0.000</td>\n",
              "    </tr>\n",
              "    <tr>\n",
              "      <th>word_freq_85:</th>\n",
              "      <td>0.000</td>\n",
              "    </tr>\n",
              "    <tr>\n",
              "      <th>word_freq_technology:</th>\n",
              "      <td>0.000</td>\n",
              "    </tr>\n",
              "    <tr>\n",
              "      <th>word_freq_1999:</th>\n",
              "      <td>0.000</td>\n",
              "    </tr>\n",
              "    <tr>\n",
              "      <th>word_freq_parts:</th>\n",
              "      <td>0.000</td>\n",
              "    </tr>\n",
              "    <tr>\n",
              "      <th>word_freq_pm:</th>\n",
              "      <td>0.000</td>\n",
              "    </tr>\n",
              "    <tr>\n",
              "      <th>word_freq_direct:</th>\n",
              "      <td>0.000</td>\n",
              "    </tr>\n",
              "    <tr>\n",
              "      <th>word_freq_cs:</th>\n",
              "      <td>0.000</td>\n",
              "    </tr>\n",
              "    <tr>\n",
              "      <th>word_freq_meeting:</th>\n",
              "      <td>0.000</td>\n",
              "    </tr>\n",
              "    <tr>\n",
              "      <th>word_freq_original:</th>\n",
              "      <td>0.000</td>\n",
              "    </tr>\n",
              "    <tr>\n",
              "      <th>word_freq_project:</th>\n",
              "      <td>0.000</td>\n",
              "    </tr>\n",
              "    <tr>\n",
              "      <th>word_freq_re:</th>\n",
              "      <td>0.000</td>\n",
              "    </tr>\n",
              "    <tr>\n",
              "      <th>word_freq_edu:</th>\n",
              "      <td>0.000</td>\n",
              "    </tr>\n",
              "    <tr>\n",
              "      <th>word_freq_table:</th>\n",
              "      <td>0.000</td>\n",
              "    </tr>\n",
              "    <tr>\n",
              "      <th>word_freq_conference:</th>\n",
              "      <td>0.000</td>\n",
              "    </tr>\n",
              "    <tr>\n",
              "      <th>char_freq_;:</th>\n",
              "      <td>0.000</td>\n",
              "    </tr>\n",
              "    <tr>\n",
              "      <th>char_freq_(:</th>\n",
              "      <td>0.000</td>\n",
              "    </tr>\n",
              "    <tr>\n",
              "      <th>char_freq_[:</th>\n",
              "      <td>0.000</td>\n",
              "    </tr>\n",
              "    <tr>\n",
              "      <th>char_freq_!:</th>\n",
              "      <td>0.778</td>\n",
              "    </tr>\n",
              "    <tr>\n",
              "      <th>char_freq_$:</th>\n",
              "      <td>0.000</td>\n",
              "    </tr>\n",
              "    <tr>\n",
              "      <th>char_freq_#:</th>\n",
              "      <td>0.000</td>\n",
              "    </tr>\n",
              "    <tr>\n",
              "      <th>capital_run_length_average:</th>\n",
              "      <td>3.756</td>\n",
              "    </tr>\n",
              "    <tr>\n",
              "      <th>capital_run_length_longest:</th>\n",
              "      <td>61.000</td>\n",
              "    </tr>\n",
              "    <tr>\n",
              "      <th>capital_run_length_total:</th>\n",
              "      <td>278.000</td>\n",
              "    </tr>\n",
              "    <tr>\n",
              "      <th>spam</th>\n",
              "      <td>1.000</td>\n",
              "    </tr>\n",
              "  </tbody>\n",
              "</table>\n",
              "</div>\n",
              "      <button class=\"colab-df-convert\" onclick=\"convertToInteractive('df-5d042110-44c9-47c3-894f-c78a6d51628e')\"\n",
              "              title=\"Convert this dataframe to an interactive table.\"\n",
              "              style=\"display:none;\">\n",
              "        \n",
              "  <svg xmlns=\"http://www.w3.org/2000/svg\" height=\"24px\"viewBox=\"0 0 24 24\"\n",
              "       width=\"24px\">\n",
              "    <path d=\"M0 0h24v24H0V0z\" fill=\"none\"/>\n",
              "    <path d=\"M18.56 5.44l.94 2.06.94-2.06 2.06-.94-2.06-.94-.94-2.06-.94 2.06-2.06.94zm-11 1L8.5 8.5l.94-2.06 2.06-.94-2.06-.94L8.5 2.5l-.94 2.06-2.06.94zm10 10l.94 2.06.94-2.06 2.06-.94-2.06-.94-.94-2.06-.94 2.06-2.06.94z\"/><path d=\"M17.41 7.96l-1.37-1.37c-.4-.4-.92-.59-1.43-.59-.52 0-1.04.2-1.43.59L10.3 9.45l-7.72 7.72c-.78.78-.78 2.05 0 2.83L4 21.41c.39.39.9.59 1.41.59.51 0 1.02-.2 1.41-.59l7.78-7.78 2.81-2.81c.8-.78.8-2.07 0-2.86zM5.41 20L4 18.59l7.72-7.72 1.47 1.35L5.41 20z\"/>\n",
              "  </svg>\n",
              "      </button>\n",
              "      \n",
              "  <style>\n",
              "    .colab-df-container {\n",
              "      display:flex;\n",
              "      flex-wrap:wrap;\n",
              "      gap: 12px;\n",
              "    }\n",
              "\n",
              "    .colab-df-convert {\n",
              "      background-color: #E8F0FE;\n",
              "      border: none;\n",
              "      border-radius: 50%;\n",
              "      cursor: pointer;\n",
              "      display: none;\n",
              "      fill: #1967D2;\n",
              "      height: 32px;\n",
              "      padding: 0 0 0 0;\n",
              "      width: 32px;\n",
              "    }\n",
              "\n",
              "    .colab-df-convert:hover {\n",
              "      background-color: #E2EBFA;\n",
              "      box-shadow: 0px 1px 2px rgba(60, 64, 67, 0.3), 0px 1px 3px 1px rgba(60, 64, 67, 0.15);\n",
              "      fill: #174EA6;\n",
              "    }\n",
              "\n",
              "    [theme=dark] .colab-df-convert {\n",
              "      background-color: #3B4455;\n",
              "      fill: #D2E3FC;\n",
              "    }\n",
              "\n",
              "    [theme=dark] .colab-df-convert:hover {\n",
              "      background-color: #434B5C;\n",
              "      box-shadow: 0px 1px 3px 1px rgba(0, 0, 0, 0.15);\n",
              "      filter: drop-shadow(0px 1px 2px rgba(0, 0, 0, 0.3));\n",
              "      fill: #FFFFFF;\n",
              "    }\n",
              "  </style>\n",
              "\n",
              "      <script>\n",
              "        const buttonEl =\n",
              "          document.querySelector('#df-5d042110-44c9-47c3-894f-c78a6d51628e button.colab-df-convert');\n",
              "        buttonEl.style.display =\n",
              "          google.colab.kernel.accessAllowed ? 'block' : 'none';\n",
              "\n",
              "        async function convertToInteractive(key) {\n",
              "          const element = document.querySelector('#df-5d042110-44c9-47c3-894f-c78a6d51628e');\n",
              "          const dataTable =\n",
              "            await google.colab.kernel.invokeFunction('convertToInteractive',\n",
              "                                                     [key], {});\n",
              "          if (!dataTable) return;\n",
              "\n",
              "          const docLinkHtml = 'Like what you see? Visit the ' +\n",
              "            '<a target=\"_blank\" href=https://colab.research.google.com/notebooks/data_table.ipynb>data table notebook</a>'\n",
              "            + ' to learn more about interactive tables.';\n",
              "          element.innerHTML = '';\n",
              "          dataTable['output_type'] = 'display_data';\n",
              "          await google.colab.output.renderOutput(dataTable, element);\n",
              "          const docLink = document.createElement('div');\n",
              "          docLink.innerHTML = docLinkHtml;\n",
              "          element.appendChild(docLink);\n",
              "        }\n",
              "      </script>\n",
              "    </div>\n",
              "  </div>\n",
              "  "
            ]
          },
          "metadata": {},
          "execution_count": 35
        }
      ]
    },
    {
      "cell_type": "markdown",
      "metadata": {
        "id": "Y0C9vNinwaTm"
      },
      "source": [
        "### 2.  The dependent variable is \"spam\" where one indicates that an email is spam and zero otherwise.  Which three variables in the dataset do you think will be important predictors in a model of spam?  Why?"
      ]
    },
    {
      "cell_type": "markdown",
      "metadata": {
        "id": "k-QElo1JwaTn"
      },
      "source": [
        "Three variables in the dataset that might be important predictors in the model of spam: \n",
        "\n",
        "1. \"capital_run_length_total:\", which is the total number of capital letters in the e-mail, can be an important predictor because when I personally got spam emails many of the letters are capitalized randomly; \n",
        "\n",
        "2. \"char_freq_!:\" can also be an important predictor since people rarely use exclamation mark in a professional setting, close relatives or friends mostly text not email;\n",
        "\n",
        "3. \"word_freq_address:\", since the most spam emails are trying to get your personal info and address is one of the most important piece of your personal info."
      ]
    },
    {
      "cell_type": "markdown",
      "metadata": {
        "id": "6TOZ9fkMwaTn"
      },
      "source": [
        "### 3.  Visualize the univariate distribution of each of the variables in the previous question.  "
      ]
    },
    {
      "cell_type": "code",
      "execution_count": null,
      "metadata": {
        "id": "gMVICsqlwaTo"
      },
      "outputs": [],
      "source": [
        "import matplotlib.pyplot as plt\n",
        "%matplotlib inline"
      ]
    },
    {
      "cell_type": "code",
      "execution_count": null,
      "metadata": {
        "id": "YiOthOvcwaTp",
        "outputId": "3f4cec38-6f41-43f6-b387-8324a8bab77f",
        "colab": {
          "base_uri": "https://localhost:8080/",
          "height": 265
        }
      },
      "outputs": [
        {
          "output_type": "display_data",
          "data": {
            "text/plain": [
              "<Figure size 432x288 with 1 Axes>"
            ],
            "image/png": "[encoded data removed]"
          },
          "metadata": {
            "needs_background": "light"
          }
        }
      ],
      "source": [
        "# \"spam\"\n",
        "plt.hist(df1['spam'])\n",
        "plt.show() "
      ]
    },
    {
      "cell_type": "code",
      "source": [
        "ListOfX =['capital_run_length_total:', 'char_freq_!:', 'word_freq_address:']\n",
        "\n",
        "import matplotlib.pyplot as plt\n",
        "%matplotlib inline\n",
        "\n",
        "for element in ListOfX:\n",
        "  print(element)\n",
        "  plt.hist(df1[element])\n",
        "  plt.show()\n",
        "\n",
        "# Instead of call the three variables one by one,\n",
        "# I made a for loop for visualizing three graphs.\n",
        "# I like being lazy! "
      ],
      "metadata": {
        "colab": {
          "base_uri": "https://localhost:8080/",
          "height": 815
        },
        "id": "R7kUidR7-MiN",
        "outputId": "f6528a65-9617-4a6d-c5d0-f64cf2d594b4"
      },
      "execution_count": null,
      "outputs": [
        {
          "output_type": "stream",
          "name": "stdout",
          "text": [
            "capital_run_length_total:\n"
          ]
        },
        {
          "output_type": "display_data",
          "data": {
            "text/plain": [
              "<Figure size 432x288 with 1 Axes>"
            ],
            "image/png": "[encoded data removed]"
          },
          "metadata": {
            "needs_background": "light"
          }
        },
        {
          "output_type": "stream",
          "name": "stdout",
          "text": [
            "char_freq_!:\n"
          ]
        },
        {
          "output_type": "display_data",
          "data": {
            "text/plain": [
              "<Figure size 432x288 with 1 Axes>"
            ],
            "image/png": "[encoded data removed]"
          },
          "metadata": {
            "needs_background": "light"
          }
        },
        {
          "output_type": "stream",
          "name": "stdout",
          "text": [
            "word_freq_address:\n"
          ]
        },
        {
          "output_type": "display_data",
          "data": {
            "text/plain": [
              "<Figure size 432x288 with 1 Axes>"
            ],
            "image/png": "[encoded data removed]"
          },
          "metadata": {
            "needs_background": "light"
          }
        }
      ]
    },
    {
      "cell_type": "code",
      "execution_count": null,
      "metadata": {
        "id": "YzrNo1I2waTp",
        "outputId": "35c465c6-51a3-45be-d4e8-6377277de703",
        "colab": {
          "base_uri": "https://localhost:8080/",
          "height": 265
        }
      },
      "outputs": [
        {
          "output_type": "display_data",
          "data": {
            "text/plain": [
              "<Figure size 432x288 with 1 Axes>"
            ],
            "image/png": "[encoded data removed]"
          },
          "metadata": {
            "needs_background": "light"
          }
        }
      ],
      "source": [
        "# \"capital_run_length_total:\"\n",
        "plt.hist(df1['capital_run_length_total:'])\n",
        "plt.show() "
      ]
    },
    {
      "cell_type": "code",
      "execution_count": null,
      "metadata": {
        "id": "G-x7tCMswaTq",
        "outputId": "fea22f8c-cbbb-49b5-af0b-d3873b01182a",
        "colab": {
          "base_uri": "https://localhost:8080/",
          "height": 265
        }
      },
      "outputs": [
        {
          "output_type": "display_data",
          "data": {
            "text/plain": [
              "<Figure size 432x288 with 1 Axes>"
            ],
            "image/png": "[encoded data removed]"
          },
          "metadata": {
            "needs_background": "light"
          }
        }
      ],
      "source": [
        "# \"char_freq_!:\"\n",
        "plt.hist(df1['char_freq_!:'])\n",
        "plt.show() "
      ]
    },
    {
      "cell_type": "code",
      "execution_count": null,
      "metadata": {
        "id": "GHiuG5PGwaTq",
        "outputId": "0aac4131-9927-4e2b-dc58-91f596847570",
        "colab": {
          "base_uri": "https://localhost:8080/",
          "height": 265
        }
      },
      "outputs": [
        {
          "output_type": "display_data",
          "data": {
            "text/plain": [
              "<Figure size 432x288 with 1 Axes>"
            ],
            "image/png": "[encoded data removed]"
          },
          "metadata": {
            "needs_background": "light"
          }
        }
      ],
      "source": [
        "# \"word_freq_address:\"\n",
        "plt.hist(df1['word_freq_address:'])\n",
        "plt.show() "
      ]
    },
    {
      "cell_type": "markdown",
      "metadata": {
        "id": "C9LFCFdnwaTr"
      },
      "source": [
        "### 4. Name each of the supervised learning models that we have learned thus far that are used to predict dependent variables like \"spam\".   "
      ]
    },
    {
      "cell_type": "markdown",
      "metadata": {
        "id": "U2zEbYt9waTr"
      },
      "source": [
        "1. K-nearest neighbors (KNN) classifier\n",
        "2. Logistic Regression none-penalized\n",
        "3. Logistic Regression with L1-penalty\n",
        "4. Logistic Regression with L2-penalty\n",
        "5. Support Vector classifier\n",
        "6. Decision tree classifier\n",
        "7. Ensemble methods (Bagging classifier, Boosting classifier)\n",
        "8. Random forest classifier (another ensemble method)"
      ]
    },
    {
      "cell_type": "markdown",
      "metadata": {
        "id": "wOkA-DnSwaTs"
      },
      "source": [
        "### 5. Describe the importance of training and test data.  Why do we separate data into these subsets?"
      ]
    },
    {
      "cell_type": "markdown",
      "metadata": {
        "id": "nGpMGBbFwaTs"
      },
      "source": [
        "By separating data into training & testing subsets, we can reduce/minimize the effects of data inconsistencies and have a better understanding of the model's characteristics by utilizing similar and randomly assigned data for training and testing: since the testing set data already has known real values for the features we want to predict, it is easier to evaluate the model's accuracy.\n",
        "\n",
        "On top of that, computational efficiency is also a reason for separating data into subsets, some models (for example deep neural network even though we still haven't discussed it in class yet) are expensive to train and repetitive evaluation that are used in other procedures is not manageable."
      ]
    },
    {
      "cell_type": "markdown",
      "metadata": {
        "id": "NTpevPQ3waTs"
      },
      "source": [
        "### 6. What is k-fold cross validation and what do we use it for?"
      ]
    },
    {
      "cell_type": "markdown",
      "metadata": {
        "id": "H7JPwAMnwaTt"
      },
      "source": [
        "For k-fold cross validation, we randomly shuffle and split the data into k folds without replacement (for example if we choose k=10 then it's a 10-fold cross validation), with k-1 folds being used for training and 1 fold being used for testing, we repeat this process k times so that we obtain k number of accuracy evaluations for each iteration, after which we get the mean of k number of accuracy evaluations.\n",
        "\n",
        "K-fold cross validation allow us to utilize our data sample and estimate how models are expected to perform (for the testing data) and used to develop a more generalized model (better at predicting unseen data)."
      ]
    },
    {
      "cell_type": "markdown",
      "metadata": {
        "id": "tJsN_Uk4waTt"
      },
      "source": [
        "### 7. How is k-fold cross validation different from stratified k-fold cross validation?"
      ]
    },
    {
      "cell_type": "markdown",
      "metadata": {
        "id": "FoYlMv41waTu"
      },
      "source": [
        "I explained the process of k-fold cross validation in question 6, the difference between k-fold and stratified k-fold is that k-fold splits the data into k folds, but each fold in a stratified k-fold has the same percentage (ratio) of each class as the original data.\n",
        "\n",
        "Stratified k-fold cross validation is my preferred way compared to k-fold cross validation, especially when we are classifying and the origin data's class ratio is unbalanced (for example 70%/30%, 80%/20%), as plain k-fold cross validation does not take unbalanced class ratio into consideration."
      ]
    },
    {
      "cell_type": "markdown",
      "metadata": {
        "id": "hseDzdOnwaTu"
      },
      "source": [
        "### 8. Choose one model from question four.  Split the data into training and test subsets.  Build a model with the three variables in the dataset that you think will be good predictors of \"spam\".  Describe why you chose any particular parameters for your model (e.g.- if you used KNN how did you decide to choose a specific value for k).  Run the model and evaluate prediction error in two ways: A) On test data directly and B) using k-fold cross-validation.  "
      ]
    },
    {
      "cell_type": "markdown",
      "metadata": {
        "id": "mcFfiPpxwaTu"
      },
      "source": [
        "I'm using KNN first"
      ]
    },
    {
      "cell_type": "code",
      "execution_count": null,
      "metadata": {
        "id": "EkG_4JiJwaTv",
        "outputId": "ad6b064b-b454-4105-b785-303961b5ad4a",
        "colab": {
          "base_uri": "https://localhost:8080/"
        }
      },
      "outputs": [
        {
          "output_type": "stream",
          "name": "stdout",
          "text": [
            "0    1\n",
            "1    1\n",
            "2    1\n",
            "3    1\n",
            "4    1\n",
            "Name: spam, dtype: int64\n"
          ]
        },
        {
          "output_type": "execute_result",
          "data": {
            "text/plain": [
              "   capital_run_length_total:  char_freq_!:  word_freq_address:\n",
              "0                        278         0.778                0.64\n",
              "1                       1028         0.372                0.28\n",
              "2                       2259         0.276                0.00\n",
              "3                        191         0.137                0.00\n",
              "4                        191         0.135                0.00"
            ],
            "text/html": [
              "\n",
              "  <div id=\"df-8b13f4dc-ad31-44a5-880b-da6d6ce0392f\">\n",
              "    <div class=\"colab-df-container\">\n",
              "      <div>\n",
              "<style scoped>\n",
              "    .dataframe tbody tr th:only-of-type {\n",
              "        vertical-align: middle;\n",
              "    }\n",
              "\n",
              "    .dataframe tbody tr th {\n",
              "        vertical-align: top;\n",
              "    }\n",
              "\n",
              "    .dataframe thead th {\n",
              "        text-align: right;\n",
              "    }\n",
              "</style>\n",
              "<table border=\"1\" class=\"dataframe\">\n",
              "  <thead>\n",
              "    <tr style=\"text-align: right;\">\n",
              "      <th></th>\n",
              "      <th>capital_run_length_total:</th>\n",
              "      <th>char_freq_!:</th>\n",
              "      <th>word_freq_address:</th>\n",
              "    </tr>\n",
              "  </thead>\n",
              "  <tbody>\n",
              "    <tr>\n",
              "      <th>0</th>\n",
              "      <td>278</td>\n",
              "      <td>0.778</td>\n",
              "      <td>0.64</td>\n",
              "    </tr>\n",
              "    <tr>\n",
              "      <th>1</th>\n",
              "      <td>1028</td>\n",
              "      <td>0.372</td>\n",
              "      <td>0.28</td>\n",
              "    </tr>\n",
              "    <tr>\n",
              "      <th>2</th>\n",
              "      <td>2259</td>\n",
              "      <td>0.276</td>\n",
              "      <td>0.00</td>\n",
              "    </tr>\n",
              "    <tr>\n",
              "      <th>3</th>\n",
              "      <td>191</td>\n",
              "      <td>0.137</td>\n",
              "      <td>0.00</td>\n",
              "    </tr>\n",
              "    <tr>\n",
              "      <th>4</th>\n",
              "      <td>191</td>\n",
              "      <td>0.135</td>\n",
              "      <td>0.00</td>\n",
              "    </tr>\n",
              "  </tbody>\n",
              "</table>\n",
              "</div>\n",
              "      <button class=\"colab-df-convert\" onclick=\"convertToInteractive('df-8b13f4dc-ad31-44a5-880b-da6d6ce0392f')\"\n",
              "              title=\"Convert this dataframe to an interactive table.\"\n",
              "              style=\"display:none;\">\n",
              "        \n",
              "  <svg xmlns=\"http://www.w3.org/2000/svg\" height=\"24px\"viewBox=\"0 0 24 24\"\n",
              "       width=\"24px\">\n",
              "    <path d=\"M0 0h24v24H0V0z\" fill=\"none\"/>\n",
              "    <path d=\"M18.56 5.44l.94 2.06.94-2.06 2.06-.94-2.06-.94-.94-2.06-.94 2.06-2.06.94zm-11 1L8.5 8.5l.94-2.06 2.06-.94-2.06-.94L8.5 2.5l-.94 2.06-2.06.94zm10 10l.94 2.06.94-2.06 2.06-.94-2.06-.94-.94-2.06-.94 2.06-2.06.94z\"/><path d=\"M17.41 7.96l-1.37-1.37c-.4-.4-.92-.59-1.43-.59-.52 0-1.04.2-1.43.59L10.3 9.45l-7.72 7.72c-.78.78-.78 2.05 0 2.83L4 21.41c.39.39.9.59 1.41.59.51 0 1.02-.2 1.41-.59l7.78-7.78 2.81-2.81c.8-.78.8-2.07 0-2.86zM5.41 20L4 18.59l7.72-7.72 1.47 1.35L5.41 20z\"/>\n",
              "  </svg>\n",
              "      </button>\n",
              "      \n",
              "  <style>\n",
              "    .colab-df-container {\n",
              "      display:flex;\n",
              "      flex-wrap:wrap;\n",
              "      gap: 12px;\n",
              "    }\n",
              "\n",
              "    .colab-df-convert {\n",
              "      background-color: #E8F0FE;\n",
              "      border: none;\n",
              "      border-radius: 50%;\n",
              "      cursor: pointer;\n",
              "      display: none;\n",
              "      fill: #1967D2;\n",
              "      height: 32px;\n",
              "      padding: 0 0 0 0;\n",
              "      width: 32px;\n",
              "    }\n",
              "\n",
              "    .colab-df-convert:hover {\n",
              "      background-color: #E2EBFA;\n",
              "      box-shadow: 0px 1px 2px rgba(60, 64, 67, 0.3), 0px 1px 3px 1px rgba(60, 64, 67, 0.15);\n",
              "      fill: #174EA6;\n",
              "    }\n",
              "\n",
              "    [theme=dark] .colab-df-convert {\n",
              "      background-color: #3B4455;\n",
              "      fill: #D2E3FC;\n",
              "    }\n",
              "\n",
              "    [theme=dark] .colab-df-convert:hover {\n",
              "      background-color: #434B5C;\n",
              "      box-shadow: 0px 1px 3px 1px rgba(0, 0, 0, 0.15);\n",
              "      filter: drop-shadow(0px 1px 2px rgba(0, 0, 0, 0.3));\n",
              "      fill: #FFFFFF;\n",
              "    }\n",
              "  </style>\n",
              "\n",
              "      <script>\n",
              "        const buttonEl =\n",
              "          document.querySelector('#df-8b13f4dc-ad31-44a5-880b-da6d6ce0392f button.colab-df-convert');\n",
              "        buttonEl.style.display =\n",
              "          google.colab.kernel.accessAllowed ? 'block' : 'none';\n",
              "\n",
              "        async function convertToInteractive(key) {\n",
              "          const element = document.querySelector('#df-8b13f4dc-ad31-44a5-880b-da6d6ce0392f');\n",
              "          const dataTable =\n",
              "            await google.colab.kernel.invokeFunction('convertToInteractive',\n",
              "                                                     [key], {});\n",
              "          if (!dataTable) return;\n",
              "\n",
              "          const docLinkHtml = 'Like what you see? Visit the ' +\n",
              "            '<a target=\"_blank\" href=https://colab.research.google.com/notebooks/data_table.ipynb>data table notebook</a>'\n",
              "            + ' to learn more about interactive tables.';\n",
              "          element.innerHTML = '';\n",
              "          dataTable['output_type'] = 'display_data';\n",
              "          await google.colab.output.renderOutput(dataTable, element);\n",
              "          const docLink = document.createElement('div');\n",
              "          docLink.innerHTML = docLinkHtml;\n",
              "          element.appendChild(docLink);\n",
              "        }\n",
              "      </script>\n",
              "    </div>\n",
              "  </div>\n",
              "  "
            ]
          },
          "metadata": {},
          "execution_count": 14
        }
      ],
      "source": [
        "y = df1['spam']\n",
        "X = df1[['capital_run_length_total:', 'char_freq_!:', 'word_freq_address:']]\n",
        "\n",
        "print(y[0:5])\n",
        "X.head()"
      ]
    },
    {
      "cell_type": "code",
      "execution_count": null,
      "metadata": {
        "id": "385Jwu-fwaTv",
        "outputId": "9ed11456-0d65-43bb-8d7f-231ea6fd4ecc",
        "colab": {
          "base_uri": "https://localhost:8080/"
        }
      },
      "outputs": [
        {
          "output_type": "stream",
          "name": "stdout",
          "text": [
            "(4601, 3)\n"
          ]
        },
        {
          "output_type": "execute_result",
          "data": {
            "text/plain": [
              "(3450, 3)"
            ]
          },
          "metadata": {},
          "execution_count": 15
        }
      ],
      "source": [
        "# Train test split, setting random_state = 42\n",
        "from sklearn.model_selection import train_test_split\n",
        "\n",
        "X_train, X_test, y_train, y_test = train_test_split(X, y, random_state=42)\n",
        "\n",
        "print(X.shape)\n",
        "X_train.shape"
      ]
    },
    {
      "cell_type": "code",
      "execution_count": null,
      "metadata": {
        "id": "eah810whwaTv"
      },
      "outputs": [],
      "source": [
        "# Using standard scaler\n",
        "\n",
        "from sklearn.preprocessing import StandardScaler\n",
        "scaler = StandardScaler()\n",
        "scaler.fit(X_train)\n",
        "X_train_scaled = scaler.transform(X_train)\n",
        "X_test_scaled = scaler.transform(X_test)"
      ]
    },
    {
      "cell_type": "code",
      "execution_count": null,
      "metadata": {
        "id": "mVg3VTs-waTw",
        "outputId": "34c3c4ca-7760-4640-82f5-a92e065d7dea",
        "colab": {
          "base_uri": "https://localhost:8080/"
        }
      },
      "outputs": [
        {
          "output_type": "stream",
          "name": "stdout",
          "text": [
            "Training set score: 0.870\n",
            "Test set score: 0.829\n",
            "[0 0 0 ... 1 0 0]\n",
            "Mean Cross Validation, KFold: 0.822\n"
          ]
        }
      ],
      "source": [
        "# Using scaled data with default parameter\n",
        "\n",
        "import numpy as np\n",
        "from sklearn.neighbors import KNeighborsClassifier\n",
        "from sklearn.model_selection import cross_val_score\n",
        "\n",
        "from sklearn.model_selection import GridSearchCV\n",
        "from sklearn.model_selection import KFold\n",
        "\n",
        "\n",
        "kfold = KFold()\n",
        "\n",
        "\n",
        "knn = KNeighborsClassifier().fit(X_train_scaled, y_train)\n",
        "\n",
        "print(\"Training set score: {:.3f}\".format(knn.score(X_train_scaled, y_train)))\n",
        "print(\"Test set score: {:.3f}\".format(knn.score(X_test_scaled, y_test)))\n",
        "\n",
        "# Prediction error on test data\n",
        "y_pred_vals = knn.predict(X_test_scaled)\n",
        "print(y_pred_vals)\n",
        "\n",
        "# Kfold Cross Validation\n",
        "print(\"Mean Cross Validation, KFold: {:.3f}\".format(np.mean(cross_val_score(knn, X_train_scaled, y_train, cv = kfold))))"
      ]
    },
    {
      "cell_type": "code",
      "execution_count": null,
      "metadata": {
        "id": "fANLPPujwaTx",
        "outputId": "3c06b5aa-7d98-41bd-c634-e6adc3856307",
        "colab": {
          "base_uri": "https://localhost:8080/"
        }
      },
      "outputs": [
        {
          "output_type": "stream",
          "name": "stdout",
          "text": [
            "Best Parameter: {'n_neighbors': 6}\n",
            "Test set Score: 0.820\n",
            "[0 0 0 ... 0 0 0]\n",
            "Best Cross-Validation Score: 0.831\n"
          ]
        }
      ],
      "source": [
        "# Tune the parameters of the model using GridSearchCV and scaled data\n",
        "\n",
        "knn_param_grid = {'n_neighbors': range(1, 10)}\n",
        "knn_grid = GridSearchCV(KNeighborsClassifier(), knn_param_grid, cv = kfold).fit(X_train_scaled, y_train)\n",
        "\n",
        "print(\"Best Parameter: {}\".format(knn_grid.best_params_))\n",
        "print(\"Test set Score: {:.3f}\".format(knn_grid.score(X_test_scaled, y_test)))\n",
        "\n",
        "# Prediction error on test data\n",
        "y_pred_vals = knn_grid.predict(X_test_scaled)\n",
        "print(y_pred_vals)\n",
        "\n",
        "# Kfold Cross Validation\n",
        "print(\"Best Cross-Validation Score: {:.3f}\".format(knn_grid.best_score_))\n"
      ]
    },
    {
      "cell_type": "markdown",
      "metadata": {
        "id": "69fcwc4swaTy"
      },
      "source": [
        "I used KNN with default parameter (k equals to 5) with standard scaled data, the test set score is 0.827 and the k-fold cross validation score is 0.821.\n",
        "\n",
        "Then I used GridSearchCV with scaled data to tune the n_neighbors parameter, the best n_neighbor parameter is 6 in this case, test set score is 0.820 and the k-fold cross validation score is 0.832.\n",
        "\n",
        "Tuning in the best parameter did improve with the performance of the model, k-fold cross validation-wise. The method I chose a specific value for k is using GridSearchCV to tune the n_neighbors parameter."
      ]
    },
    {
      "cell_type": "markdown",
      "metadata": {
        "id": "_TbczrJXwaTz"
      },
      "source": [
        "### 9. Choose a second model from question four.  Using the same three variables in the dataset that you think will be good predictors of \"spam\".  Describe why you chose any particular parameters for your model (e.g.- if you used KNN how did you decide to choose a specific value for k).  Run the model and evaluate prediction error in two ways: A) On test data directly and B) using k-fold cross-validation.  Did this model predict test data better than your previous model?"
      ]
    },
    {
      "cell_type": "markdown",
      "metadata": {
        "id": "BsGc9HpQwaTz"
      },
      "source": [
        "I'm using logistic regression"
      ]
    },
    {
      "cell_type": "code",
      "execution_count": null,
      "metadata": {
        "id": "A2_mNiCHwaT0",
        "outputId": "2479ddff-a0bd-406b-d874-48185d783898",
        "colab": {
          "base_uri": "https://localhost:8080/"
        }
      },
      "outputs": [
        {
          "output_type": "stream",
          "name": "stdout",
          "text": [
            "Training set score: 0.750\n",
            "Test set score: 0.749\n",
            "[0 0 0 ... 1 0 0]\n",
            "Mean Cross Validation, KFold: 0.752\n"
          ]
        }
      ],
      "source": [
        "# Using scaled data with default parameter with penalty = 'none'\n",
        "from sklearn.linear_model import LogisticRegression\n",
        "logreg = LogisticRegression(penalty = 'none').fit(X_train_scaled, y_train)\n",
        "\n",
        "print(\"Training set score: {:.3f}\".format(logreg.score(X_train_scaled, y_train)))\n",
        "print(\"Test set score: {:.3f}\".format(logreg.score(X_test_scaled, y_test)))\n",
        "\n",
        "# Prediction error on test data\n",
        "l_pred_vals = logreg.predict(X_test_scaled)\n",
        "print(l_pred_vals)\n",
        "\n",
        "# Kfold Cross Validation\n",
        "print(\"Mean Cross Validation, KFold: {:.3f}\".format(np.mean(cross_val_score(logreg, X_train_scaled, y_train, cv = kfold))))"
      ]
    },
    {
      "cell_type": "code",
      "execution_count": null,
      "metadata": {
        "id": "2w_CHtEewaT0",
        "outputId": "eb39e95f-2f52-43a8-a4da-f1876cb54a31",
        "colab": {
          "base_uri": "https://localhost:8080/"
        }
      },
      "outputs": [
        {
          "output_type": "stream",
          "name": "stdout",
          "text": [
            "Training set score: 0.750\n",
            "Test set score: 0.749\n",
            "[0 0 0 ... 1 0 0]\n",
            "Mean Cross Validation, KFold: 0.752\n"
          ]
        }
      ],
      "source": [
        "# Using scaled data with default parameter with penalty = 'l1'\n",
        "logreg = LogisticRegression(penalty = 'l1',solver='liblinear').fit(X_train_scaled, y_train)\n",
        "\n",
        "print(\"Training set score: {:.3f}\".format(logreg.score(X_train_scaled, y_train)))\n",
        "print(\"Test set score: {:.3f}\".format(logreg.score(X_test_scaled, y_test)))\n",
        "\n",
        "# Prediction error on test data\n",
        "l_pred_vals = logreg.predict(X_test_scaled)\n",
        "print(l_pred_vals)\n",
        "\n",
        "# Kfold Cross Validation\n",
        "print(\"Mean Cross Validation, KFold: {:.3f}\".format(np.mean(cross_val_score(logreg, X_train_scaled, y_train, cv = kfold))))"
      ]
    },
    {
      "cell_type": "code",
      "execution_count": null,
      "metadata": {
        "id": "9A4HjANHwaT1",
        "outputId": "c91484f6-3b48-4f5a-906f-a5366ce284ac",
        "colab": {
          "base_uri": "https://localhost:8080/"
        }
      },
      "outputs": [
        {
          "output_type": "stream",
          "name": "stdout",
          "text": [
            "Training set score: 0.750\n",
            "Test set score: 0.749\n",
            "[0 0 0 ... 1 0 0]\n",
            "Mean Cross Validation, KFold: 0.751\n"
          ]
        }
      ],
      "source": [
        "# Using scaled data with default parameter with penalty = 'l2'\n",
        "logreg = LogisticRegression(penalty = 'l2').fit(X_train_scaled, y_train)\n",
        "\n",
        "print(\"Training set score: {:.3f}\".format(logreg.score(X_train_scaled, y_train)))\n",
        "print(\"Test set score: {:.3f}\".format(logreg.score(X_test_scaled, y_test)))\n",
        "\n",
        "# Prediction error on test data\n",
        "l_pred_vals = logreg.predict(X_test_scaled)\n",
        "print(l_pred_vals)\n",
        "\n",
        "# Kfold Cross Validation\n",
        "print(\"Mean Cross Validation, KFold: {:.3f}\".format(np.mean(cross_val_score(logreg, X_train_scaled, y_train, cv = kfold))))"
      ]
    },
    {
      "cell_type": "code",
      "execution_count": null,
      "metadata": {
        "id": "FS09ZejywaT2",
        "outputId": "eb7a644e-bf49-49c2-cd2b-32a7c9cbf5ed",
        "colab": {
          "base_uri": "https://localhost:8080/"
        }
      },
      "outputs": [
        {
          "output_type": "stream",
          "name": "stdout",
          "text": [
            "Best Parameter: {'C': 0.001, 'penalty': 'none'}\n",
            "Test set Score: 0.749\n",
            "[0 0 0 ... 1 0 0]\n",
            "Best Cross-Validation Score: 0.752\n"
          ]
        }
      ],
      "source": [
        "# Tune the parameters of the model using GridSearchCV and scaled data\n",
        "logreg_param_grid = {'penalty': ['none','l1','l2'],\n",
        "    'C': [0.001, 0.01, 0.1, 1, 10, 100, 1000]}\n",
        "logreg_grid = GridSearchCV(LogisticRegression(), logreg_param_grid, cv = kfold).fit(X_train_scaled, y_train)\n",
        "\n",
        "print(\"Best Parameter: {}\".format(logreg_grid.best_params_))\n",
        "print(\"Test set Score: {:.3f}\".format(logreg_grid.score(X_test_scaled, y_test)))\n",
        "\n",
        "# Prediction error on test data\n",
        "l_pred_vals = logreg_grid.predict(X_test_scaled)\n",
        "print(l_pred_vals)\n",
        "\n",
        "# Kfold Cross Validation\n",
        "print(\"Best Cross-Validation Score: {:.3f}\".format(logreg_grid.best_score_))\n"
      ]
    },
    {
      "cell_type": "markdown",
      "metadata": {
        "id": "0SIuX4htwaT2"
      },
      "source": [
        "I used logistic regression with default parameter and penalty = 'none' with scaled data first, the test set score for that is 0.749 and the k-fold cross validation score is 0.752.\n",
        "\n",
        "Default parameter and penalty = 'l1' with scaled data results in a test set score of 0.749 and k-fold cross validation score of 0.751.\n",
        "\n",
        "Default parameter and penalty = 'l2' with scaled data results in a test set score of 0.749 and k-fold cross validation score of 0.751.\n",
        "\n",
        "I then used GridSearchCV with unscaled data to tune the 'C' and 'penalty' parameter, the best 'C' parameter for that is 0.001 and 'penalty' is none. The test set score in this situation is 0.749 and the k-fold cross validation score is 0.752.\n",
        "\n",
        "This model did not predict test data better than my previous KNN model with standard scaled data. Logistic regression's final test set score with tuned parameter is 0.749 compared to KNN's 0.820 and logistic's final best cross validation score with k-fold and tuned parameter is 0.752 compared to KNN's 0.832."
      ]
    },
    {
      "cell_type": "markdown",
      "metadata": {
        "id": "JJJvqrzmwaT3"
      },
      "source": [
        "### 10. Choose a third model from question four.  Using the same three variables in the dataset that you think will be good predictors of \"spam\".  Describe why you chose any particular parameters for your model (e.g.- if you used KNN how did you decide to choose a specific value for k). Run the model and evaluate prediction error in two ways: A) On test data directly and B) using k-fold cross-validation.  Did this model predict test data better than your previous models?"
      ]
    },
    {
      "cell_type": "markdown",
      "metadata": {
        "id": "0Pcd7TkYwaT3"
      },
      "source": [
        "Using decision trees for this one"
      ]
    },
    {
      "cell_type": "code",
      "execution_count": null,
      "metadata": {
        "id": "TCliWftBwaT3",
        "outputId": "1f09c091-9bcb-4823-8161-289097f0ec04",
        "colab": {
          "base_uri": "https://localhost:8080/"
        }
      },
      "outputs": [
        {
          "output_type": "stream",
          "name": "stdout",
          "text": [
            "Training set score: 0.957\n",
            "Test set score: 0.820\n",
            "[0 0 0 ... 1 0 0]\n",
            "Mean Cross Validation, KFold: 0.823\n"
          ]
        }
      ],
      "source": [
        "from sklearn.tree import DecisionTreeClassifier\n",
        "decision_tree = DecisionTreeClassifier(random_state=42)\n",
        "tree = decision_tree.fit(X_train_scaled, y_train)\n",
        "\n",
        "print(\"Training set score: {:.3f}\".format(tree.score(X_train_scaled, y_train)))\n",
        "print(\"Test set score: {:.3f}\".format(tree.score(X_test_scaled, y_test)))\n",
        "\n",
        "# Prediction error on test data\n",
        "tree_pred_vals = tree.predict(X_test_scaled)\n",
        "print(tree_pred_vals)\n",
        "\n",
        "# Kfold Cross Validation\n",
        "print(\"Mean Cross Validation, KFold: {:.3f}\".format(np.mean(cross_val_score(tree, X_train_scaled, y_train, cv = kfold))))"
      ]
    },
    {
      "cell_type": "code",
      "execution_count": null,
      "metadata": {
        "id": "Z9e_LqqPwaT4",
        "outputId": "9cedc2d3-79a8-4e61-ae73-4e4366eebe1d",
        "colab": {
          "base_uri": "https://localhost:8080/"
        }
      },
      "outputs": [
        {
          "output_type": "stream",
          "name": "stdout",
          "text": [
            "Best Parameter: {'criterion': 'gini', 'max_depth': 8, 'min_samples_leaf': 4, 'min_samples_split': 2}\n",
            "Test set Score: 0.828\n",
            "[0 0 0 ... 1 0 0]\n",
            "Best Cross-Validation Score: 0.839\n"
          ]
        }
      ],
      "source": [
        "# Using GridSearchCV\n",
        "param_dict = {\n",
        "    \"criterion\":['gini','entropy'],\n",
        "    \"max_depth\":range(1,10),\n",
        "    \"min_samples_split\":range(1,10),\n",
        "    \"min_samples_leaf\":range(1,5)\n",
        "}\n",
        "\n",
        "tree_grid = GridSearchCV(DecisionTreeClassifier(random_state=42), param_dict, cv = kfold).fit(X_train_scaled, y_train)\n",
        "\n",
        "\n",
        "print(\"Best Parameter: {}\".format(tree_grid.best_params_))\n",
        "print(\"Test set Score: {:.3f}\".format(tree_grid.score(X_test_scaled, y_test)))\n",
        "\n",
        "# Prediction error on test data\n",
        "tree_pred_vals = tree_grid.predict(X_test_scaled)\n",
        "print(tree_pred_vals)\n",
        "\n",
        "# Kfold Cross Validation\n",
        "print(\"Best Cross-Validation Score: {:.3f}\".format(tree_grid.best_score_))\n"
      ]
    },
    {
      "cell_type": "markdown",
      "metadata": {
        "id": "EJMlajrjwaT5"
      },
      "source": [
        "I used decision tree classifier with default parameter with scaled data first, the test set score for that is 0.820 and the k-fold cross validation score is 0.823.\n",
        "\n",
        "I then used GridSearchCV with unscaled data to tune the 'criterion', 'max_depth', 'min_samples_split' and 'min_samples_leaf' parameter, the best 'criterion' parameter for that is 'gini', 'max_depth' is 8, 'min_samples_leaf' is 4 and 'min_samples_split' is 2. The test set score in this situation is 0.828 and the k-fold cross validation score is 0.839.\n",
        "\n",
        "This model did predict test data better than my previous KNN and logistic model with standard scaled data. Decision tree's final test set score with tuned parameter is 0.828 comparing to Logistic regression's 0.749 and KNN's 0.820; The best cross-validation score with kfold and tuned parameter using decision tree is 0.839 compared to logistic's 0.752 and KNN's 0.832."
      ]
    },
    {
      "cell_type": "markdown",
      "metadata": {
        "id": "aEAR4bc0waT5"
      },
      "source": [
        "### 11. Choose a fourth model from question four.  Using the same three variables in the dataset that you think will be good predictors of \"spam\".  Describe why you chose any particular parameters for your model (e.g.- if you used KNN how did you decide to choose a specific value for k). Run the model and evaluate prediction error in two ways: A) On test data directly and B) using k-fold cross-validation.  Did this model predict test data better than your previous models?"
      ]
    },
    {
      "cell_type": "markdown",
      "metadata": {
        "id": "KW4xjAU-waT6"
      },
      "source": [
        "Using random forests"
      ]
    },
    {
      "cell_type": "code",
      "execution_count": null,
      "metadata": {
        "id": "yGz_a1kMwaT6",
        "outputId": "50a24fe8-1be1-4c5c-e183-eca4d5fbdb0b",
        "colab": {
          "base_uri": "https://localhost:8080/"
        }
      },
      "outputs": [
        {
          "output_type": "stream",
          "name": "stdout",
          "text": [
            "Training set score: 0.957\n",
            "Test set score: 0.836\n",
            "[0 0 0 ... 1 0 0]\n",
            "Mean Cross Validation, KFold: 0.831\n"
          ]
        }
      ],
      "source": [
        "from sklearn.ensemble import RandomForestClassifier\n",
        "RandomForestClassifier = RandomForestClassifier(random_state=42)\n",
        "rfc = RandomForestClassifier.fit(X_train_scaled, y_train)\n",
        "\n",
        "print(\"Training set score: {:.3f}\".format(rfc.score(X_train_scaled, y_train)))\n",
        "print(\"Test set score: {:.3f}\".format(rfc.score(X_test_scaled, y_test)))\n",
        "\n",
        "# Prediction error on test data\n",
        "rfc_pred_vals = rfc.predict(X_test_scaled)\n",
        "print(rfc_pred_vals)\n",
        "\n",
        "# Kfold Cross Validation\n",
        "print(\"Mean Cross Validation, KFold: {:.3f}\".format(np.mean(cross_val_score(rfc, X_train_scaled, y_train, cv = kfold))))"
      ]
    },
    {
      "cell_type": "code",
      "execution_count": null,
      "metadata": {
        "id": "SFOWVs8OwaT6",
        "outputId": "3c99a03e-36fe-42fa-c1bc-3b4ed66fcec7",
        "colab": {
          "base_uri": "https://localhost:8080/"
        }
      },
      "outputs": [
        {
          "output_type": "stream",
          "name": "stdout",
          "text": [
            "Fitting 5 folds for each of 20 candidates, totalling 100 fits\n",
            "Best Parameter: {'oob_score': True, 'n_estimators': 1000, 'min_samples_leaf': 2, 'max_features': 'log2', 'max_depth': 9, 'criterion': 'gini'}\n",
            "Test set Score: 0.844\n",
            "[0 0 0 ... 1 0 0]\n",
            "Best Cross-Validation Score: 0.846\n",
            "{'bootstrap': True,\n",
            " 'ccp_alpha': 0.0,\n",
            " 'class_weight': None,\n",
            " 'criterion': 'gini',\n",
            " 'max_depth': 9,\n",
            " 'max_features': 'log2',\n",
            " 'max_leaf_nodes': None,\n",
            " 'max_samples': None,\n",
            " 'min_impurity_decrease': 0.0,\n",
            " 'min_samples_leaf': 2,\n",
            " 'min_samples_split': 2,\n",
            " 'min_weight_fraction_leaf': 0.0,\n",
            " 'n_estimators': 1000,\n",
            " 'n_jobs': None,\n",
            " 'oob_score': True,\n",
            " 'random_state': 42,\n",
            " 'verbose': 0,\n",
            " 'warm_start': False}\n"
          ]
        }
      ],
      "source": [
        "# Using RandomizedSearchCV\n",
        "from sklearn.model_selection import RandomizedSearchCV\n",
        "param_dict = {\n",
        "    \"criterion\":['gini','entropy'],\n",
        "    \"max_depth\":range(1,10),\n",
        "    \"n_estimators\":[200, 500, 1000, 2000],\n",
        "    \"min_samples_leaf\":range(1,5),\n",
        "    \"max_features\": ['auto', 'sqrt', 'log2'],\n",
        "    \"oob_score\": [True, False]\n",
        "}\n",
        "\n",
        "rfc_randomized = RandomizedSearchCV(rfc, param_dict, cv = kfold, n_iter = 20, verbose = 2, n_jobs = -1, random_state = 42).fit(X_train_scaled, y_train)\n",
        "\n",
        "\n",
        "print(\"Best Parameter: {}\".format(rfc_randomized.best_params_))\n",
        "print(\"Test set Score: {:.3f}\".format(rfc_randomized.score(X_test_scaled, y_test)))\n",
        "\n",
        "# Prediction error on test data\n",
        "rfc_pred_vals = rfc_randomized.predict(X_test_scaled)\n",
        "print(rfc_pred_vals)\n",
        "\n",
        "# Kfold Cross Validation\n",
        "print(\"Best Cross-Validation Score: {:.3f}\".format(rfc_randomized.best_score_))\n",
        "\n",
        "\n",
        "from pprint import pprint\n",
        "pprint(rfc_randomized.best_estimator_.get_params())"
      ]
    },
    {
      "cell_type": "markdown",
      "metadata": {
        "id": "oSN5i3bpwaT6"
      },
      "source": [
        "I used Random Forest Classifier with default parameter with scaled data first, the test set score for that is 0.836 and the k-fold cross validation score is 0.831.\n",
        "\n",
        "I then used RandomizedSearchCV with unscaled data (GridSearchCV takes too long in this case) to tune the 'criterion', 'max_depth', 'n_estimators', 'min_samples_leaf', 'max_features' and 'oob_score' parameter, the best 'criterion' parameter for that is 'gini', 'max_depth' is 9, 'n_estimators' is 1000, 'min_samples_leaf' is 2, 'max_features' is 'log2', and 'oob_score' is True. The test set score in this situation is 0.844 and the k-fold cross validation score is 0.846.\n",
        "\n",
        "This model did predict test data better than my previous decision tree, KNN and logistic model with standard scaled data. Random Forest's final test set score with tuned parameter is 0.844 comparing to decision tree's 0.828, Logistic regression's 0.749 and KNN's 0.820; The best cross-validation score with kfold and tuned parameter using random forest is 0.846 compared to decision tree's 0.839, logistic's 0.752 and KNN's 0.832."
      ]
    },
    {
      "cell_type": "markdown",
      "metadata": {
        "id": "4fMNs86nwaT7"
      },
      "source": [
        "### 12. Now rerun your best model from questions 8 through 11, but this time add three new variables to the model that you think will increase prediction accuracy.   Did this model predict test data better than your previous models?  "
      ]
    },
    {
      "cell_type": "markdown",
      "metadata": {
        "id": "0wX4fjm5waT7"
      },
      "source": [
        "I'm adding 3 new varaibles to the random forest model that I think will increase prediction accuracy: 'word_freq_mail:', 'char_freq_$:' and 'word_freq_order:'."
      ]
    },
    {
      "cell_type": "code",
      "execution_count": null,
      "metadata": {
        "id": "t5sYx-nqwaT7",
        "outputId": "7749d184-ce8f-4710-90a2-06e4fec82cee",
        "colab": {
          "base_uri": "https://localhost:8080/"
        }
      },
      "outputs": [
        {
          "output_type": "stream",
          "name": "stdout",
          "text": [
            "0    1\n",
            "1    1\n",
            "2    1\n",
            "3    1\n",
            "4    1\n",
            "Name: spam, dtype: int64\n"
          ]
        },
        {
          "output_type": "execute_result",
          "data": {
            "text/plain": [
              "   capital_run_length_total:  char_freq_!:  word_freq_address:  \\\n",
              "0                        278         0.778                0.64   \n",
              "1                       1028         0.372                0.28   \n",
              "2                       2259         0.276                0.00   \n",
              "3                        191         0.137                0.00   \n",
              "4                        191         0.135                0.00   \n",
              "\n",
              "   word_freq_mail:  char_freq_$:  word_freq_order:  \n",
              "0             0.00         0.000              0.00  \n",
              "1             0.94         0.180              0.00  \n",
              "2             0.25         0.184              0.64  \n",
              "3             0.63         0.000              0.31  \n",
              "4             0.63         0.000              0.31  "
            ],
            "text/html": [
              "\n",
              "  <div id=\"df-e52b1d98-d73e-477d-8b65-2e4d072f17da\">\n",
              "    <div class=\"colab-df-container\">\n",
              "      <div>\n",
              "<style scoped>\n",
              "    .dataframe tbody tr th:only-of-type {\n",
              "        vertical-align: middle;\n",
              "    }\n",
              "\n",
              "    .dataframe tbody tr th {\n",
              "        vertical-align: top;\n",
              "    }\n",
              "\n",
              "    .dataframe thead th {\n",
              "        text-align: right;\n",
              "    }\n",
              "</style>\n",
              "<table border=\"1\" class=\"dataframe\">\n",
              "  <thead>\n",
              "    <tr style=\"text-align: right;\">\n",
              "      <th></th>\n",
              "      <th>capital_run_length_total:</th>\n",
              "      <th>char_freq_!:</th>\n",
              "      <th>word_freq_address:</th>\n",
              "      <th>word_freq_mail:</th>\n",
              "      <th>char_freq_$:</th>\n",
              "      <th>word_freq_order:</th>\n",
              "    </tr>\n",
              "  </thead>\n",
              "  <tbody>\n",
              "    <tr>\n",
              "      <th>0</th>\n",
              "      <td>278</td>\n",
              "      <td>0.778</td>\n",
              "      <td>0.64</td>\n",
              "      <td>0.00</td>\n",
              "      <td>0.000</td>\n",
              "      <td>0.00</td>\n",
              "    </tr>\n",
              "    <tr>\n",
              "      <th>1</th>\n",
              "      <td>1028</td>\n",
              "      <td>0.372</td>\n",
              "      <td>0.28</td>\n",
              "      <td>0.94</td>\n",
              "      <td>0.180</td>\n",
              "      <td>0.00</td>\n",
              "    </tr>\n",
              "    <tr>\n",
              "      <th>2</th>\n",
              "      <td>2259</td>\n",
              "      <td>0.276</td>\n",
              "      <td>0.00</td>\n",
              "      <td>0.25</td>\n",
              "      <td>0.184</td>\n",
              "      <td>0.64</td>\n",
              "    </tr>\n",
              "    <tr>\n",
              "      <th>3</th>\n",
              "      <td>191</td>\n",
              "      <td>0.137</td>\n",
              "      <td>0.00</td>\n",
              "      <td>0.63</td>\n",
              "      <td>0.000</td>\n",
              "      <td>0.31</td>\n",
              "    </tr>\n",
              "    <tr>\n",
              "      <th>4</th>\n",
              "      <td>191</td>\n",
              "      <td>0.135</td>\n",
              "      <td>0.00</td>\n",
              "      <td>0.63</td>\n",
              "      <td>0.000</td>\n",
              "      <td>0.31</td>\n",
              "    </tr>\n",
              "  </tbody>\n",
              "</table>\n",
              "</div>\n",
              "      <button class=\"colab-df-convert\" onclick=\"convertToInteractive('df-e52b1d98-d73e-477d-8b65-2e4d072f17da')\"\n",
              "              title=\"Convert this dataframe to an interactive table.\"\n",
              "              style=\"display:none;\">\n",
              "        \n",
              "  <svg xmlns=\"http://www.w3.org/2000/svg\" height=\"24px\"viewBox=\"0 0 24 24\"\n",
              "       width=\"24px\">\n",
              "    <path d=\"M0 0h24v24H0V0z\" fill=\"none\"/>\n",
              "    <path d=\"M18.56 5.44l.94 2.06.94-2.06 2.06-.94-2.06-.94-.94-2.06-.94 2.06-2.06.94zm-11 1L8.5 8.5l.94-2.06 2.06-.94-2.06-.94L8.5 2.5l-.94 2.06-2.06.94zm10 10l.94 2.06.94-2.06 2.06-.94-2.06-.94-.94-2.06-.94 2.06-2.06.94z\"/><path d=\"M17.41 7.96l-1.37-1.37c-.4-.4-.92-.59-1.43-.59-.52 0-1.04.2-1.43.59L10.3 9.45l-7.72 7.72c-.78.78-.78 2.05 0 2.83L4 21.41c.39.39.9.59 1.41.59.51 0 1.02-.2 1.41-.59l7.78-7.78 2.81-2.81c.8-.78.8-2.07 0-2.86zM5.41 20L4 18.59l7.72-7.72 1.47 1.35L5.41 20z\"/>\n",
              "  </svg>\n",
              "      </button>\n",
              "      \n",
              "  <style>\n",
              "    .colab-df-container {\n",
              "      display:flex;\n",
              "      flex-wrap:wrap;\n",
              "      gap: 12px;\n",
              "    }\n",
              "\n",
              "    .colab-df-convert {\n",
              "      background-color: #E8F0FE;\n",
              "      border: none;\n",
              "      border-radius: 50%;\n",
              "      cursor: pointer;\n",
              "      display: none;\n",
              "      fill: #1967D2;\n",
              "      height: 32px;\n",
              "      padding: 0 0 0 0;\n",
              "      width: 32px;\n",
              "    }\n",
              "\n",
              "    .colab-df-convert:hover {\n",
              "      background-color: #E2EBFA;\n",
              "      box-shadow: 0px 1px 2px rgba(60, 64, 67, 0.3), 0px 1px 3px 1px rgba(60, 64, 67, 0.15);\n",
              "      fill: #174EA6;\n",
              "    }\n",
              "\n",
              "    [theme=dark] .colab-df-convert {\n",
              "      background-color: #3B4455;\n",
              "      fill: #D2E3FC;\n",
              "    }\n",
              "\n",
              "    [theme=dark] .colab-df-convert:hover {\n",
              "      background-color: #434B5C;\n",
              "      box-shadow: 0px 1px 3px 1px rgba(0, 0, 0, 0.15);\n",
              "      filter: drop-shadow(0px 1px 2px rgba(0, 0, 0, 0.3));\n",
              "      fill: #FFFFFF;\n",
              "    }\n",
              "  </style>\n",
              "\n",
              "      <script>\n",
              "        const buttonEl =\n",
              "          document.querySelector('#df-e52b1d98-d73e-477d-8b65-2e4d072f17da button.colab-df-convert');\n",
              "        buttonEl.style.display =\n",
              "          google.colab.kernel.accessAllowed ? 'block' : 'none';\n",
              "\n",
              "        async function convertToInteractive(key) {\n",
              "          const element = document.querySelector('#df-e52b1d98-d73e-477d-8b65-2e4d072f17da');\n",
              "          const dataTable =\n",
              "            await google.colab.kernel.invokeFunction('convertToInteractive',\n",
              "                                                     [key], {});\n",
              "          if (!dataTable) return;\n",
              "\n",
              "          const docLinkHtml = 'Like what you see? Visit the ' +\n",
              "            '<a target=\"_blank\" href=https://colab.research.google.com/notebooks/data_table.ipynb>data table notebook</a>'\n",
              "            + ' to learn more about interactive tables.';\n",
              "          element.innerHTML = '';\n",
              "          dataTable['output_type'] = 'display_data';\n",
              "          await google.colab.output.renderOutput(dataTable, element);\n",
              "          const docLink = document.createElement('div');\n",
              "          docLink.innerHTML = docLinkHtml;\n",
              "          element.appendChild(docLink);\n",
              "        }\n",
              "      </script>\n",
              "    </div>\n",
              "  </div>\n",
              "  "
            ]
          },
          "metadata": {},
          "execution_count": 27
        }
      ],
      "source": [
        "y = df1['spam']\n",
        "X = df1[['capital_run_length_total:', 'char_freq_!:', 'word_freq_address:', 'word_freq_mail:', 'char_freq_$:', 'word_freq_order:']]\n",
        "\n",
        "print(y[0:5])\n",
        "X.head()"
      ]
    },
    {
      "cell_type": "code",
      "execution_count": null,
      "metadata": {
        "id": "YPYL3AfnwaT7",
        "outputId": "dc6f5e8b-93a5-48eb-c55e-7a939efaf885",
        "colab": {
          "base_uri": "https://localhost:8080/"
        }
      },
      "outputs": [
        {
          "output_type": "stream",
          "name": "stdout",
          "text": [
            "(4601, 6)\n"
          ]
        },
        {
          "output_type": "execute_result",
          "data": {
            "text/plain": [
              "(3450, 6)"
            ]
          },
          "metadata": {},
          "execution_count": 28
        }
      ],
      "source": [
        "# Train test split, setting random_state = 42\n",
        "from sklearn.model_selection import train_test_split\n",
        "\n",
        "X_train, X_test, y_train, y_test = train_test_split(X, y, random_state=42)\n",
        "\n",
        "print(X.shape)\n",
        "X_train.shape"
      ]
    },
    {
      "cell_type": "code",
      "execution_count": null,
      "metadata": {
        "id": "G14OG8LmwaT7"
      },
      "outputs": [],
      "source": [
        "# Using standard scaler\n",
        "\n",
        "from sklearn.preprocessing import StandardScaler\n",
        "scaler = StandardScaler()\n",
        "scaler.fit(X_train)\n",
        "X_train_scaled = scaler.transform(X_train)\n",
        "X_test_scaled = scaler.transform(X_test)"
      ]
    },
    {
      "cell_type": "code",
      "execution_count": null,
      "metadata": {
        "id": "v0-soYJIwaT8",
        "outputId": "4d734905-cc40-41bd-9012-7ef9df7d6b16",
        "colab": {
          "base_uri": "https://localhost:8080/"
        }
      },
      "outputs": [
        {
          "output_type": "stream",
          "name": "stdout",
          "text": [
            "Training set score: 0.977\n",
            "Test set score: 0.868\n",
            "[0 0 0 ... 1 0 0]\n",
            "Mean Cross Validation, KFold: 0.875\n"
          ]
        }
      ],
      "source": [
        "# Random Forest Classifier with default parameter\n",
        "from sklearn.ensemble import RandomForestClassifier\n",
        "RandomForestClassifier = RandomForestClassifier(random_state=42)\n",
        "rfc = RandomForestClassifier.fit(X_train_scaled, y_train)\n",
        "\n",
        "print(\"Training set score: {:.3f}\".format(rfc.score(X_train_scaled, y_train)))\n",
        "print(\"Test set score: {:.3f}\".format(rfc.score(X_test_scaled, y_test)))\n",
        "\n",
        "# Prediction error on test data\n",
        "rfc_pred_vals = rfc.predict(X_test_scaled)\n",
        "print(rfc_pred_vals)\n",
        "\n",
        "# Kfold Cross Validation\n",
        "print(\"Mean Cross Validation, KFold: {:.3f}\".format(np.mean(cross_val_score(rfc, X_train_scaled, y_train, cv = kfold))))"
      ]
    },
    {
      "cell_type": "code",
      "execution_count": null,
      "metadata": {
        "id": "a9DJHwjHwaT8",
        "outputId": "10604a94-0bcf-4a34-9744-d1e462215b55",
        "colab": {
          "base_uri": "https://localhost:8080/"
        }
      },
      "outputs": [
        {
          "output_type": "stream",
          "name": "stdout",
          "text": [
            "Fitting 5 folds for each of 20 candidates, totalling 100 fits\n",
            "Best Parameter: {'oob_score': True, 'n_estimators': 1000, 'min_samples_leaf': 2, 'max_features': 'log2', 'max_depth': 9, 'criterion': 'gini'}\n",
            "Test set Score: 0.870\n",
            "[0 0 0 ... 1 0 0]\n",
            "Best Cross-Validation Score: 0.877\n",
            "{'bootstrap': True,\n",
            " 'ccp_alpha': 0.0,\n",
            " 'class_weight': None,\n",
            " 'criterion': 'gini',\n",
            " 'max_depth': 9,\n",
            " 'max_features': 'log2',\n",
            " 'max_leaf_nodes': None,\n",
            " 'max_samples': None,\n",
            " 'min_impurity_decrease': 0.0,\n",
            " 'min_samples_leaf': 2,\n",
            " 'min_samples_split': 2,\n",
            " 'min_weight_fraction_leaf': 0.0,\n",
            " 'n_estimators': 1000,\n",
            " 'n_jobs': None,\n",
            " 'oob_score': True,\n",
            " 'random_state': 42,\n",
            " 'verbose': 0,\n",
            " 'warm_start': False}\n"
          ]
        }
      ],
      "source": [
        "# Using RandomizedSearchCV\n",
        "from sklearn.model_selection import RandomizedSearchCV\n",
        "param_dict = {\n",
        "    \"criterion\":['gini','entropy'],\n",
        "    \"max_depth\":range(1,10),\n",
        "    \"n_estimators\":[200, 500, 1000, 2000],\n",
        "    \"min_samples_leaf\":range(1,5),\n",
        "    \"max_features\": ['auto', 'sqrt', 'log2'],\n",
        "    \"oob_score\": [True, False]\n",
        "}\n",
        "\n",
        "rfc_randomized = RandomizedSearchCV(rfc, param_dict, cv = kfold, n_iter = 20, verbose = 2, n_jobs = -1, random_state = 42).fit(X_train_scaled, y_train)\n",
        "\n",
        "\n",
        "print(\"Best Parameter: {}\".format(rfc_randomized.best_params_))\n",
        "print(\"Test set Score: {:.3f}\".format(rfc_randomized.score(X_test_scaled, y_test)))\n",
        "\n",
        "# Prediction error on test data\n",
        "rfc_pred_vals = rfc_randomized.predict(X_test_scaled)\n",
        "print(rfc_pred_vals)\n",
        "\n",
        "# Kfold Cross Validation\n",
        "print(\"Best Cross-Validation Score: {:.3f}\".format(rfc_randomized.best_score_))\n",
        "\n",
        "\n",
        "from pprint import pprint\n",
        "pprint(rfc_randomized.best_estimator_.get_params())"
      ]
    },
    {
      "cell_type": "markdown",
      "metadata": {
        "id": "7Mif876ywaT8"
      },
      "source": [
        "The best parameters for Random Forest using RandomizedSearchCV stayed the same as the ones in question 11.\n",
        "However, this model did predict test data even better than my previous models. The best test score went from 0.844 (Random Forest with 3 X variables) to 0.870 (Random Forest with 6 X variables). And the best cross-validation score went from 0.846 (Random Forest with 3 X variables) to 0.877 (Random Forest with 6 X variables)."
      ]
    },
    {
      "cell_type": "markdown",
      "metadata": {
        "id": "CHP3HHfBwaT9"
      },
      "source": [
        "### 13. Rerun all your other models with this final set of six variables, evaluate prediction error, and choose a final model.  Why did you select this model among all of the models that you ran?  "
      ]
    },
    {
      "cell_type": "markdown",
      "metadata": {
        "id": "qj2-zGypwaT9"
      },
      "source": [
        "### KNN"
      ]
    },
    {
      "cell_type": "code",
      "execution_count": null,
      "metadata": {
        "id": "Y3Q_Kw-VwaT9",
        "outputId": "3aac4404-e4c4-4ba0-bd8a-9eb45e312dbe",
        "colab": {
          "base_uri": "https://localhost:8080/"
        }
      },
      "outputs": [
        {
          "output_type": "stream",
          "name": "stdout",
          "text": [
            "Best Parameter: {'n_neighbors': 6}\n",
            "Test set Score: 0.836\n",
            "[0 0 0 ... 1 0 0]\n",
            "Best Cross-Validation Score: 0.849\n"
          ]
        }
      ],
      "source": [
        "knn_param_grid = {'n_neighbors': range(1, 10)}\n",
        "knn_grid = GridSearchCV(KNeighborsClassifier(), knn_param_grid, cv = kfold).fit(X_train_scaled, y_train)\n",
        "\n",
        "print(\"Best Parameter: {}\".format(knn_grid.best_params_))\n",
        "print(\"Test set Score: {:.3f}\".format(knn_grid.score(X_test_scaled, y_test)))\n",
        "\n",
        "# Prediction error on test data\n",
        "y_pred_vals = knn_grid.predict(X_test_scaled)\n",
        "print(y_pred_vals)\n",
        "\n",
        "# Kfold Cross Validation\n",
        "print(\"Best Cross-Validation Score: {:.3f}\".format(knn_grid.best_score_))\n"
      ]
    },
    {
      "cell_type": "markdown",
      "metadata": {
        "id": "K65GGzLuwaT9"
      },
      "source": [
        "### Logistic"
      ]
    },
    {
      "cell_type": "code",
      "execution_count": null,
      "metadata": {
        "id": "LLbQV7towaT-",
        "outputId": "038088a9-551d-439f-cb02-d92674d1ea2a",
        "colab": {
          "base_uri": "https://localhost:8080/"
        }
      },
      "outputs": [
        {
          "output_type": "stream",
          "name": "stdout",
          "text": [
            "Best Parameter: {'C': 10, 'penalty': 'l2'}\n",
            "Test set Score: 0.805\n",
            "[0 0 0 ... 1 0 0]\n",
            "Best Cross-Validation Score: 0.808\n"
          ]
        }
      ],
      "source": [
        "logreg_param_grid = {'penalty': ['none','l1','l2'],\n",
        "    'C': [0.001, 0.01, 0.1, 1, 10, 100, 1000]}\n",
        "logreg_grid = GridSearchCV(LogisticRegression(), logreg_param_grid, cv = kfold).fit(X_train_scaled, y_train)\n",
        "\n",
        "print(\"Best Parameter: {}\".format(logreg_grid.best_params_))\n",
        "print(\"Test set Score: {:.3f}\".format(logreg_grid.score(X_test_scaled, y_test)))\n",
        "\n",
        "# Prediction error on test data\n",
        "l_pred_vals = logreg_grid.predict(X_test_scaled)\n",
        "print(l_pred_vals)\n",
        "\n",
        "# Kfold Cross Validation\n",
        "print(\"Best Cross-Validation Score: {:.3f}\".format(logreg_grid.best_score_))\n"
      ]
    },
    {
      "cell_type": "markdown",
      "metadata": {
        "id": "qrNT0dLywaT-"
      },
      "source": [
        "### Decision Tree"
      ]
    },
    {
      "cell_type": "code",
      "execution_count": null,
      "metadata": {
        "id": "m03s7dbBwaT-",
        "outputId": "8452e704-b5b7-4718-a361-43aec435c06d",
        "colab": {
          "base_uri": "https://localhost:8080/"
        }
      },
      "outputs": [
        {
          "output_type": "stream",
          "name": "stdout",
          "text": [
            "Best Parameter: {'criterion': 'gini', 'max_depth': 6, 'min_samples_leaf': 3, 'min_samples_split': 9}\n",
            "Test set Score: 0.853\n",
            "[0 0 0 ... 1 0 0]\n",
            "Best Cross-Validation Score: 0.864\n"
          ]
        }
      ],
      "source": [
        "param_dict = {\n",
        "    \"criterion\":['gini','entropy'],\n",
        "    \"max_depth\":range(1,10),\n",
        "    \"min_samples_split\":range(1,10),\n",
        "    \"min_samples_leaf\":range(1,5)\n",
        "}\n",
        "\n",
        "tree_grid = GridSearchCV(DecisionTreeClassifier(random_state=42), param_dict, cv = kfold).fit(X_train_scaled, y_train)\n",
        "\n",
        "\n",
        "print(\"Best Parameter: {}\".format(tree_grid.best_params_))\n",
        "print(\"Test set Score: {:.3f}\".format(tree_grid.score(X_test_scaled, y_test)))\n",
        "\n",
        "# Prediction error on test data\n",
        "tree_pred_vals = tree_grid.predict(X_test_scaled)\n",
        "print(tree_pred_vals)\n",
        "\n",
        "# Kfold Cross Validation\n",
        "print(\"Best Cross-Validation Score: {:.3f}\".format(tree_grid.best_score_))\n"
      ]
    },
    {
      "cell_type": "markdown",
      "metadata": {
        "id": "L4Agz6YNwaT-"
      },
      "source": [
        "I'm choosing Random Forest Classifier for my final model. Because among all the models I ran (KNN, logisitc, decision tree, and random forest), random forest classifier has the highest test set score (0.870) with tuned parameters compared to others (KNN's 0.843, logistic's 0.805, decision tree's 0.853) and it also has the highest best cross-validation scroe (0.877) with kfold and tuned parameters compared to others (KNN's 0.849, logistic's 0.808, decision tree's 0.864). Since I want a generalized model that predict unseen data better, I'm choosing random forest."
      ]
    },
    {
      "cell_type": "markdown",
      "metadata": {
        "id": "PGNI3Lq4waT_"
      },
      "source": [
        "### 14. What variable that currently is not in your model, if included, would be likely to increase your final model's predictive power?  For this answer try to speculate about a variable outside the variables available in the data that would improve you model."
      ]
    },
    {
      "cell_type": "markdown",
      "metadata": {
        "id": "5wPQzr-owaUA"
      },
      "source": [
        "I would say the total number of misspelled words in the email could be a variable that will likely to increase my final model's predictive power. \n",
        "\n",
        "Since spam emails are usually poorly written with grammar and spelling errors, just like odd use of punctuations (which this dataset did include), the total number of misspelled words could be an indicator of spams."
      ]
    },
    {
      "cell_type": "markdown",
      "metadata": {
        "id": "io6a74V_waUA"
      },
      "source": [
        "### 15. Lastly, you have listed each of the models that we have learned to use to predict dependent variables like spam.  List each model we have focused on in class thus far that you could use to evaluate data with a continuous dependent variable. "
      ]
    },
    {
      "cell_type": "markdown",
      "metadata": {
        "id": "3eU7-SnpwaUA"
      },
      "source": [
        "1. Linear Regression (Ordinary Least Squares)\n",
        "2. Regularized regression Lasso \n",
        "3. Regularized regression Ridge\n",
        "4. K-nearest neighbors regressor\n",
        "5. Support vector regression\n",
        "6. Decision tree regressor\n",
        "7. Ensemble methods (Bagging regressor, Boosting regressor) \n",
        "8. Random forest regression (another ensemble method)"
      ]
    }
  ],
  "metadata": {
    "kernelspec": {
      "display_name": "Python 3",
      "language": "python",
      "name": "python3"
    },
    "language_info": {
      "codemirror_mode": {
        "name": "ipython",
        "version": 3
      },
      "file_extension": ".py",
      "mimetype": "text/x-python",
      "name": "python",
      "nbconvert_exporter": "python",
      "pygments_lexer": "ipython3",
      "version": "3.7.6"
    },
    "colab": {
      "name": "mid_term_exam.ipynb",
      "provenance": [],
      "collapsed_sections": [
        "wOkA-DnSwaTs",
        "NTpevPQ3waTs",
        "tJsN_Uk4waTt",
        "hseDzdOnwaTu",
        "_TbczrJXwaTz",
        "JJJvqrzmwaT3",
        "aEAR4bc0waT5",
        "4fMNs86nwaT7",
        "CHP3HHfBwaT9",
        "qj2-zGypwaT9",
        "K65GGzLuwaT9",
        "qrNT0dLywaT-",
        "PGNI3Lq4waT_",
        "io6a74V_waUA"
      ]
    }
  },
  "nbformat": 4,
  "nbformat_minor": 0
}